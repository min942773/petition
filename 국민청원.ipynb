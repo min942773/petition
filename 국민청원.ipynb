{
 "cells": [
  {
   "cell_type": "code",
   "execution_count": 97,
   "metadata": {},
   "outputs": [],
   "source": [
    "from sklearn.model_selection import train_test_split\n",
    "from tqdm import tqdm_notebook\n",
    "from konlpy.tag import Okt\n",
    "import pandas as pd\n",
    "import numpy as np\n",
    "import pickle"
   ]
  },
  {
   "cell_type": "code",
   "execution_count": 2,
   "metadata": {},
   "outputs": [],
   "source": [
    "data = pd.read_csv('데이터/petition_data_all_2019_01_09.csv')"
   ]
  },
  {
   "cell_type": "code",
   "execution_count": 3,
   "metadata": {},
   "outputs": [
    {
     "data": {
      "text/html": [
       "<div>\n",
       "<style scoped>\n",
       "    .dataframe tbody tr th:only-of-type {\n",
       "        vertical-align: middle;\n",
       "    }\n",
       "\n",
       "    .dataframe tbody tr th {\n",
       "        vertical-align: top;\n",
       "    }\n",
       "\n",
       "    .dataframe thead th {\n",
       "        text-align: right;\n",
       "    }\n",
       "</style>\n",
       "<table border=\"1\" class=\"dataframe\">\n",
       "  <thead>\n",
       "    <tr style=\"text-align: right;\">\n",
       "      <th></th>\n",
       "      <th>num</th>\n",
       "      <th>category</th>\n",
       "      <th>start-days</th>\n",
       "      <th>end-days</th>\n",
       "      <th>person</th>\n",
       "      <th>progress</th>\n",
       "      <th>title</th>\n",
       "      <th>count</th>\n",
       "      <th>petition_overview</th>\n",
       "    </tr>\n",
       "  </thead>\n",
       "  <tbody>\n",
       "    <tr>\n",
       "      <th>0</th>\n",
       "      <td>21</td>\n",
       "      <td>안전/환경</td>\n",
       "      <td>2017-08-19</td>\n",
       "      <td>2017-11-17</td>\n",
       "      <td>kakao - ***</td>\n",
       "      <td>청원종료</td>\n",
       "      <td>스텔라 데이지호에 대한 제안입니다.</td>\n",
       "      <td>9</td>\n",
       "      <td>\\n\\t\\t\\t\\t\\t\\t\\t\\t\\t\\t\\t스텔라 데이지호에 대한 제안입니다. \\n...</td>\n",
       "    </tr>\n",
       "    <tr>\n",
       "      <th>1</th>\n",
       "      <td>22</td>\n",
       "      <td>기타</td>\n",
       "      <td>2017-08-19</td>\n",
       "      <td>2017-11-17</td>\n",
       "      <td>kakao - ***</td>\n",
       "      <td>청원종료</td>\n",
       "      <td>비리제보처를 만들어주세요.</td>\n",
       "      <td>17</td>\n",
       "      <td>\\n\\t\\t\\t\\t\\t\\t\\t\\t\\t\\t\\t현 정부에 국민들이 가장 원하는 것은 부...</td>\n",
       "    </tr>\n",
       "    <tr>\n",
       "      <th>2</th>\n",
       "      <td>23</td>\n",
       "      <td>미래</td>\n",
       "      <td>2017-08-19</td>\n",
       "      <td>2017-09-03</td>\n",
       "      <td>kakao - ***</td>\n",
       "      <td>청원종료</td>\n",
       "      <td>제2의 개성공단</td>\n",
       "      <td>0</td>\n",
       "      <td>\\n\\t\\t\\t\\t\\t\\t\\t\\t\\t\\t\\t만일 하시는 대통령님 및 각 부처 장관님...</td>\n",
       "    </tr>\n",
       "    <tr>\n",
       "      <th>3</th>\n",
       "      <td>24</td>\n",
       "      <td>일자리</td>\n",
       "      <td>2017-08-19</td>\n",
       "      <td>2017-08-26</td>\n",
       "      <td>kakao - ***</td>\n",
       "      <td>청원종료</td>\n",
       "      <td>공공기관 무조건적인 정규직전환을 반대합니다.</td>\n",
       "      <td>53</td>\n",
       "      <td>\\n\\t\\t\\t\\t\\t\\t\\t\\t\\t\\t\\t현정부에서 정규직 일자리를 늘리는 것에 ...</td>\n",
       "    </tr>\n",
       "    <tr>\n",
       "      <th>4</th>\n",
       "      <td>25</td>\n",
       "      <td>미래</td>\n",
       "      <td>2017-08-19</td>\n",
       "      <td>2017-09-03</td>\n",
       "      <td>kakao - ***</td>\n",
       "      <td>청원종료</td>\n",
       "      <td>제2의 개성공단</td>\n",
       "      <td>0</td>\n",
       "      <td>\\n\\t\\t\\t\\t\\t\\t\\t\\t\\t\\t\\t만일 하시는 대통령님 및 각 부처 장관님...</td>\n",
       "    </tr>\n",
       "  </tbody>\n",
       "</table>\n",
       "</div>"
      ],
      "text/plain": [
       "   num category  start-days    end-days       person progress  \\\n",
       "0   21    안전/환경  2017-08-19  2017-11-17  kakao - ***    청원종료    \n",
       "1   22       기타  2017-08-19  2017-11-17  kakao - ***    청원종료    \n",
       "2   23       미래  2017-08-19  2017-09-03  kakao - ***    청원종료    \n",
       "3   24      일자리  2017-08-19  2017-08-26  kakao - ***    청원종료    \n",
       "4   25       미래  2017-08-19  2017-09-03  kakao - ***    청원종료    \n",
       "\n",
       "                      title  count  \\\n",
       "0       스텔라 데이지호에 대한 제안입니다.      9   \n",
       "1            비리제보처를 만들어주세요.     17   \n",
       "2                  제2의 개성공단      0   \n",
       "3  공공기관 무조건적인 정규직전환을 반대합니다.     53   \n",
       "4                  제2의 개성공단      0   \n",
       "\n",
       "                                   petition_overview  \n",
       "0  \\n\\t\\t\\t\\t\\t\\t\\t\\t\\t\\t\\t스텔라 데이지호에 대한 제안입니다. \\n...  \n",
       "1  \\n\\t\\t\\t\\t\\t\\t\\t\\t\\t\\t\\t현 정부에 국민들이 가장 원하는 것은 부...  \n",
       "2  \\n\\t\\t\\t\\t\\t\\t\\t\\t\\t\\t\\t만일 하시는 대통령님 및 각 부처 장관님...  \n",
       "3  \\n\\t\\t\\t\\t\\t\\t\\t\\t\\t\\t\\t현정부에서 정규직 일자리를 늘리는 것에 ...  \n",
       "4  \\n\\t\\t\\t\\t\\t\\t\\t\\t\\t\\t\\t만일 하시는 대통령님 및 각 부처 장관님...  "
      ]
     },
     "execution_count": 3,
     "metadata": {},
     "output_type": "execute_result"
    }
   ],
   "source": [
    "data.head()"
   ]
  },
  {
   "cell_type": "code",
   "execution_count": 13,
   "metadata": {
    "scrolled": true
   },
   "outputs": [
    {
     "name": "stdout",
     "output_type": "stream",
     "text": [
      "False\n"
     ]
    }
   ],
   "source": [
    "print(data.isnull().values.any())"
   ]
  },
  {
   "cell_type": "code",
   "execution_count": 15,
   "metadata": {},
   "outputs": [
    {
     "data": {
      "text/plain": [
       "371230"
      ]
     },
     "execution_count": 15,
     "metadata": {},
     "output_type": "execute_result"
    }
   ],
   "source": [
    "len(data)"
   ]
  },
  {
   "cell_type": "code",
   "execution_count": 46,
   "metadata": {},
   "outputs": [],
   "source": [
    "data = data.drop_duplicates(subset='petition_overview', keep='last')"
   ]
  },
  {
   "cell_type": "code",
   "execution_count": 47,
   "metadata": {},
   "outputs": [
    {
     "data": {
      "text/plain": [
       "352988"
      ]
     },
     "execution_count": 47,
     "metadata": {},
     "output_type": "execute_result"
    }
   ],
   "source": [
    "len(data)"
   ]
  },
  {
   "cell_type": "code",
   "execution_count": 49,
   "metadata": {},
   "outputs": [
    {
     "name": "stdout",
     "output_type": "stream",
     "text": [
      "category\n",
      "정치개혁           53258\n",
      "기타             43175\n",
      "인권/성평등         31114\n",
      "안전/환경          27542\n",
      "교통/건축/국토       25899\n",
      "외교/통일/국방       24462\n",
      "육아/교육          23557\n",
      "보건복지           22330\n",
      "일자리            20631\n",
      "행정             18145\n",
      "문화/예술/체육/언론    16571\n",
      "미래             16114\n",
      "경제민주화          15203\n",
      "성장동력            6469\n",
      "반려동물            3629\n",
      "저출산/고령화대책       3199\n",
      "농산어촌            1690\n",
      "dtype: int64\n"
     ]
    }
   ],
   "source": [
    "print(data.groupby('category').size().sort_values(ascending=False))"
   ]
  },
  {
   "cell_type": "code",
   "execution_count": 43,
   "metadata": {},
   "outputs": [],
   "source": [
    "category_selected = ['정치개혁', '인권/성평등', '안전/환경', '교통/건축/국토', '외교/통일/국방']"
   ]
  },
  {
   "cell_type": "code",
   "execution_count": 88,
   "metadata": {},
   "outputs": [
    {
     "data": {
      "text/html": [
       "<div>\n",
       "<style scoped>\n",
       "    .dataframe tbody tr th:only-of-type {\n",
       "        vertical-align: middle;\n",
       "    }\n",
       "\n",
       "    .dataframe tbody tr th {\n",
       "        vertical-align: top;\n",
       "    }\n",
       "\n",
       "    .dataframe thead th {\n",
       "        text-align: right;\n",
       "    }\n",
       "</style>\n",
       "<table border=\"1\" class=\"dataframe\">\n",
       "  <thead>\n",
       "    <tr style=\"text-align: right;\">\n",
       "      <th></th>\n",
       "      <th>num</th>\n",
       "      <th>category</th>\n",
       "      <th>start-days</th>\n",
       "      <th>end-days</th>\n",
       "      <th>person</th>\n",
       "      <th>progress</th>\n",
       "      <th>title</th>\n",
       "      <th>count</th>\n",
       "      <th>petition_overview</th>\n",
       "    </tr>\n",
       "  </thead>\n",
       "  <tbody>\n",
       "    <tr>\n",
       "      <th>0</th>\n",
       "      <td>21</td>\n",
       "      <td>안전/환경</td>\n",
       "      <td>2017-08-19</td>\n",
       "      <td>2017-11-17</td>\n",
       "      <td>kakao - ***</td>\n",
       "      <td>청원종료</td>\n",
       "      <td>스텔라 데이지호에 대한 제안입니다.</td>\n",
       "      <td>9</td>\n",
       "      <td>\\n\\t\\t\\t\\t\\t\\t\\t\\t\\t\\t\\t스텔라 데이지호에 대한 제안입니다. \\n...</td>\n",
       "    </tr>\n",
       "    <tr>\n",
       "      <th>6</th>\n",
       "      <td>27</td>\n",
       "      <td>정치개혁</td>\n",
       "      <td>2017-08-19</td>\n",
       "      <td>2017-09-18</td>\n",
       "      <td>naver - ***</td>\n",
       "      <td>청원종료</td>\n",
       "      <td>김이수 헌재소장 임명 재고 건의</td>\n",
       "      <td>1</td>\n",
       "      <td>\\n\\t\\t\\t\\t\\t\\t\\t\\t\\t\\t\\t문 대통령님께 묻습니다 (2017. 8....</td>\n",
       "    </tr>\n",
       "    <tr>\n",
       "      <th>12</th>\n",
       "      <td>33</td>\n",
       "      <td>인권/성평등</td>\n",
       "      <td>2017-08-19</td>\n",
       "      <td>2017-11-17</td>\n",
       "      <td>naver - ***</td>\n",
       "      <td>청원종료</td>\n",
       "      <td>납득할 수 있는 장애 재판정을 받고 싶습니다.</td>\n",
       "      <td>15</td>\n",
       "      <td>\\n\\t\\t\\t\\t\\t\\t\\t\\t\\t\\t\\t안녕하십니까? 저는 경직형 양마비 뇌병변...</td>\n",
       "    </tr>\n",
       "    <tr>\n",
       "      <th>14</th>\n",
       "      <td>35</td>\n",
       "      <td>외교/통일/국방</td>\n",
       "      <td>2017-08-19</td>\n",
       "      <td>2017-08-26</td>\n",
       "      <td>kakao - ***</td>\n",
       "      <td>청원종료</td>\n",
       "      <td>문재인정부는 신한국형 페리프로세스가 작성했습니다.</td>\n",
       "      <td>0</td>\n",
       "      <td>\\n\\t\\t\\t\\t\\t\\t\\t\\t\\t\\t\\t문재인 대통령님 신한국형 페리프로세스 로...</td>\n",
       "    </tr>\n",
       "    <tr>\n",
       "      <th>15</th>\n",
       "      <td>36</td>\n",
       "      <td>인권/성평등</td>\n",
       "      <td>2017-08-19</td>\n",
       "      <td>2017-08-26</td>\n",
       "      <td>naver - ***</td>\n",
       "      <td>청원종료</td>\n",
       "      <td>한국채식인구 100만명. 학교 급식 및 군대에서 현미채식 선택권을 보장해주십시오!</td>\n",
       "      <td>1</td>\n",
       "      <td>\\n\\t\\t\\t\\t\\t\\t\\t\\t\\t\\t\\t문재인 대통령님과 각 정부 인사분들께 마...</td>\n",
       "    </tr>\n",
       "  </tbody>\n",
       "</table>\n",
       "</div>"
      ],
      "text/plain": [
       "    num  category  start-days    end-days       person progress  \\\n",
       "0    21     안전/환경  2017-08-19  2017-11-17  kakao - ***    청원종료    \n",
       "6    27      정치개혁  2017-08-19  2017-09-18  naver - ***    청원종료    \n",
       "12   33    인권/성평등  2017-08-19  2017-11-17  naver - ***    청원종료    \n",
       "14   35  외교/통일/국방  2017-08-19  2017-08-26  kakao - ***    청원종료    \n",
       "15   36    인권/성평등  2017-08-19  2017-08-26  naver - ***    청원종료    \n",
       "\n",
       "                                            title  count  \\\n",
       "0                             스텔라 데이지호에 대한 제안입니다.      9   \n",
       "6                               김이수 헌재소장 임명 재고 건의      1   \n",
       "12                      납득할 수 있는 장애 재판정을 받고 싶습니다.     15   \n",
       "14                    문재인정부는 신한국형 페리프로세스가 작성했습니다.      0   \n",
       "15  한국채식인구 100만명. 학교 급식 및 군대에서 현미채식 선택권을 보장해주십시오!      1   \n",
       "\n",
       "                                    petition_overview  \n",
       "0   \\n\\t\\t\\t\\t\\t\\t\\t\\t\\t\\t\\t스텔라 데이지호에 대한 제안입니다. \\n...  \n",
       "6   \\n\\t\\t\\t\\t\\t\\t\\t\\t\\t\\t\\t문 대통령님께 묻습니다 (2017. 8....  \n",
       "12  \\n\\t\\t\\t\\t\\t\\t\\t\\t\\t\\t\\t안녕하십니까? 저는 경직형 양마비 뇌병변...  \n",
       "14  \\n\\t\\t\\t\\t\\t\\t\\t\\t\\t\\t\\t문재인 대통령님 신한국형 페리프로세스 로...  \n",
       "15  \\n\\t\\t\\t\\t\\t\\t\\t\\t\\t\\t\\t문재인 대통령님과 각 정부 인사분들께 마...  "
      ]
     },
     "execution_count": 88,
     "metadata": {},
     "output_type": "execute_result"
    }
   ],
   "source": [
    "df = data[data['category'].isin(category_selected)]\n",
    "df.head()"
   ]
  },
  {
   "cell_type": "code",
   "execution_count": 75,
   "metadata": {},
   "outputs": [],
   "source": [
    "X = df['petition_overview']"
   ]
  },
  {
   "cell_type": "code",
   "execution_count": 76,
   "metadata": {},
   "outputs": [],
   "source": [
    "y = df['category']"
   ]
  },
  {
   "cell_type": "code",
   "execution_count": 81,
   "metadata": {},
   "outputs": [
    {
     "data": {
      "text/plain": [
       "0     \\n\\t\\t\\t\\t\\t\\t\\t\\t\\t\\t\\t스텔라 데이지호에 대한 제안입니다. \\n...\n",
       "6     \\n\\t\\t\\t\\t\\t\\t\\t\\t\\t\\t\\t문 대통령님께 묻습니다 (2017. 8....\n",
       "12    \\n\\t\\t\\t\\t\\t\\t\\t\\t\\t\\t\\t안녕하십니까? 저는 경직형 양마비 뇌병변...\n",
       "14    \\n\\t\\t\\t\\t\\t\\t\\t\\t\\t\\t\\t문재인 대통령님 신한국형 페리프로세스 로...\n",
       "15    \\n\\t\\t\\t\\t\\t\\t\\t\\t\\t\\t\\t문재인 대통령님과 각 정부 인사분들께 마...\n",
       "17    \\n\\t\\t\\t\\t\\t\\t\\t\\t\\t\\t\\t문재인 대통령님 한중관계 사드 갈등 해소...\n",
       "19    \\n\\t\\t\\t\\t\\t\\t\\t\\t\\t\\t\\t지금부터 67년전 1950년 6.25전쟁...\n",
       "25    \\n\\t\\t\\t\\t\\t\\t\\t\\t\\t\\t\\t지금부터 67년전 1950년 6.25전쟁...\n",
       "30    \\n\\t\\t\\t\\t\\t\\t\\t\\t\\t\\t\\t간절히 간절히 간청 드립니다. \\n\\n\\...\n",
       "54    \\n\\t\\t\\t\\t\\t\\t\\t\\t\\t\\t\\t※지장물관련 국토부의 해석 : 기존 건축...\n",
       "Name: petition_overview, dtype: object"
      ]
     },
     "execution_count": 81,
     "metadata": {},
     "output_type": "execute_result"
    }
   ],
   "source": [
    "X[:10]"
   ]
  },
  {
   "cell_type": "code",
   "execution_count": 87,
   "metadata": {},
   "outputs": [],
   "source": [
    "X = X.str.replace(\"[^ㄱ-ㅎㅏ-ㅣ가-힣 ]\",\"\")"
   ]
  },
  {
   "cell_type": "code",
   "execution_count": 89,
   "metadata": {},
   "outputs": [],
   "source": [
    "X_train, X_test, y_train, y_test = train_test_split(X, y, test_size=0.2, random_state=2020)"
   ]
  },
  {
   "cell_type": "code",
   "execution_count": 90,
   "metadata": {},
   "outputs": [
    {
     "name": "stdout",
     "output_type": "stream",
     "text": [
      "129820\n",
      "32455\n",
      "129820\n",
      "32455\n"
     ]
    }
   ],
   "source": [
    "print(len(X_train))\n",
    "print(len(X_test))\n",
    "print(len(y_train))\n",
    "print(len(y_test))"
   ]
  },
  {
   "cell_type": "code",
   "execution_count": 91,
   "metadata": {},
   "outputs": [
    {
     "name": "stdout",
     "output_type": "stream",
     "text": [
      "333598    봄에 이어 이번 가을 겨울에도 어김없이 미세먼지가 왔습니다 적어도 봄에는 마스크 안...\n",
      "344228    부동산 계약 전산화 해야 합니다  부동산 계약 전산화 해야 합니다  부동산 계약 전...\n",
      "300621    어제 뉴스를 보고 너무 어이가 없어서 올려봅니다 동료들한테 처음 들었을 때 너무 황...\n",
      "285042    최근 국방의 의무에 관련하여 지속적으로 이야기가 나오고있습니다 국방의 의무에대하여 ...\n",
      "26544                                          조두순 재심 해주세요 \n",
      "Name: petition_overview, dtype: object\n",
      "333598       안전/환경\n",
      "344228    교통/건축/국토\n",
      "300621      인권/성평등\n",
      "285042    외교/통일/국방\n",
      "26544        안전/환경\n",
      "Name: category, dtype: object\n"
     ]
    }
   ],
   "source": [
    "print(X_train.head())\n",
    "print(y_train.head())"
   ]
  },
  {
   "cell_type": "code",
   "execution_count": 95,
   "metadata": {},
   "outputs": [
    {
     "name": "stderr",
     "output_type": "stream",
     "text": [
      "C:\\Users\\user\\Miniconda3\\lib\\site-packages\\jpype\\_core.py:210: UserWarning: \n",
      "-------------------------------------------------------------------------------\n",
      "Deprecated: convertStrings was not specified when starting the JVM. The default\n",
      "behavior in JPype will be False starting in JPype 0.8. The recommended setting\n",
      "for new code is convertStrings=False.  The legacy value of True was assumed for\n",
      "this session. If you are a user of an application that reported this warning,\n",
      "please file a ticket with the developer.\n",
      "-------------------------------------------------------------------------------\n",
      "\n",
      "  \"\"\")\n"
     ]
    }
   ],
   "source": [
    "okt = Okt()"
   ]
  },
  {
   "cell_type": "code",
   "execution_count": 99,
   "metadata": {},
   "outputs": [
    {
     "data": {
      "application/vnd.jupyter.widget-view+json": {
       "model_id": "f977e63c0cc244b69d9b15d7bfdddb0b",
       "version_major": 2,
       "version_minor": 0
      },
      "text/plain": [
       "HBox(children=(IntProgress(value=0, max=129820), HTML(value='')))"
      ]
     },
     "metadata": {},
     "output_type": "display_data"
    },
    {
     "name": "stdout",
     "output_type": "stream",
     "text": [
      "\n"
     ]
    }
   ],
   "source": [
    "X_train_morphs = []\n",
    "for sentence in tqdm_notebook(X_train):\n",
    "    temp_X = []\n",
    "    temp_X = okt.morphs(sentence)\n",
    "    X_train_morphs.append(temp_X)"
   ]
  },
  {
   "cell_type": "code",
   "execution_count": 100,
   "metadata": {},
   "outputs": [
    {
     "data": {
      "application/vnd.jupyter.widget-view+json": {
       "model_id": "02a6932a7b6d4020a8887ea8e9f14523",
       "version_major": 2,
       "version_minor": 0
      },
      "text/plain": [
       "HBox(children=(IntProgress(value=0, max=32455), HTML(value='')))"
      ]
     },
     "metadata": {},
     "output_type": "display_data"
    },
    {
     "name": "stdout",
     "output_type": "stream",
     "text": [
      "\n"
     ]
    }
   ],
   "source": [
    "X_test_morphs = []\n",
    "for sentence in tqdm_notebook(X_test):\n",
    "    temp_X = []\n",
    "    temp_X = okt.morphs(sentence)\n",
    "    X_test_morphs.append(temp_X)"
   ]
  },
  {
   "cell_type": "code",
   "execution_count": 101,
   "metadata": {},
   "outputs": [],
   "source": [
    "with open('X_train_morphs.pickle', 'wb') as file:\n",
    "    pickle.dump(X_train_morphs, file, pickle.HIGHEST_PROTOCOL)"
   ]
  },
  {
   "cell_type": "code",
   "execution_count": 102,
   "metadata": {},
   "outputs": [],
   "source": [
    "with open('X_test_morphs.pickle', 'wb') as file:\n",
    "    pickle.dump(X_test_morphs, file, pickle.HIGHEST_PROTOCOL)"
   ]
  },
  {
   "cell_type": "code",
   "execution_count": null,
   "metadata": {},
   "outputs": [],
   "source": []
  }
 ],
 "metadata": {
  "kernelspec": {
   "display_name": "Python 3",
   "language": "python",
   "name": "python3"
  },
  "language_info": {
   "codemirror_mode": {
    "name": "ipython",
    "version": 3
   },
   "file_extension": ".py",
   "mimetype": "text/x-python",
   "name": "python",
   "nbconvert_exporter": "python",
   "pygments_lexer": "ipython3",
   "version": "3.7.4"
  }
 },
 "nbformat": 4,
 "nbformat_minor": 2
}
